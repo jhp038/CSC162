{
 "cells": [
  {
   "cell_type": "code",
   "execution_count": 88,
   "metadata": {},
   "outputs": [],
   "source": [
    "from random import randrange"
   ]
  },
  {
   "cell_type": "code",
   "execution_count": 89,
   "metadata": {},
   "outputs": [],
   "source": [
    "def gcd(m,n):\n",
    "    while m%n !=0:\n",
    "        oldm = m\n",
    "        oldn = n\n",
    "        \n",
    "        m = oldn\n",
    "        n = oldm % oldn\n",
    "        return n\n",
    "\n",
    "\n",
    "\n",
    "class Fraction: #Standard procedure to name class with capital letters\n",
    "    def __init__(self,top,bottom):\n",
    "        #class initializer\n",
    "        self.num = top #local variable\n",
    "        self.den = bottom\n",
    "        \n",
    "    def show(self):\n",
    "        return str(self.num) + '/' + str(self.den)\n",
    "    \n",
    "    def __repr__(self):\n",
    "        return \"Fraction\" + str((self.num,self.den))\n",
    "    \n",
    "    def __str__(self): #self decribe.. 잘 이해가안감'\n",
    "        return self.show()\n",
    "    \n",
    "    def __add__(self,otherfrac): #몰까\n",
    "        newnum = (self.num * otherfrac.den +\n",
    "                  self.den * otherfrac.num)\n",
    "        newden = self.den *otherfrac.den\n",
    "        common = gcd(newnum,newden)\n",
    "        return Fraction(newnum// common, newden//common)\n",
    "    \n",
    "    def __eq__ (self, otherfrac):\n",
    "        first_num = self.num + otherfrac.den\n",
    "        second_num = otherfrac.num + self.den\n",
    "        \n",
    "        return first_num == second_num\n",
    "        "
   ]
  },
  {
   "cell_type": "code",
   "execution_count": 91,
   "metadata": {},
   "outputs": [
    {
     "data": {
      "text/plain": [
       "[Fraction(9, 11),\n",
       " Fraction(9, 4),\n",
       " Fraction(1, 2),\n",
       " Fraction(8, 7),\n",
       " Fraction(9, 5),\n",
       " Fraction(3, 6),\n",
       " Fraction(10, 13),\n",
       " Fraction(2, 4),\n",
       " Fraction(8, 3),\n",
       " Fraction(5, 1),\n",
       " Fraction(8, 12),\n",
       " Fraction(1, 1),\n",
       " Fraction(11, 5),\n",
       " Fraction(2, 14),\n",
       " Fraction(13, 11),\n",
       " Fraction(7, 12),\n",
       " Fraction(3, 2),\n",
       " Fraction(4, 14),\n",
       " Fraction(9, 8),\n",
       " Fraction(7, 5)]"
      ]
     },
     "execution_count": 91,
     "metadata": {},
     "output_type": "execute_result"
    }
   ],
   "source": [
    "fracs = []\n",
    "for i in range(20):\n",
    "    fracs.append(Fraction(randrange(1,15),randrange(1,15)))\n",
    "fracs"
   ]
  },
  {
   "cell_type": "code",
   "execution_count": 80,
   "metadata": {},
   "outputs": [],
   "source": [
    "frac = Fraction(3,5)"
   ]
  },
  {
   "cell_type": "code",
   "execution_count": 42,
   "metadata": {},
   "outputs": [
    {
     "data": {
      "text/plain": [
       "'3/5'"
      ]
     },
     "execution_count": 42,
     "metadata": {},
     "output_type": "execute_result"
    }
   ],
   "source": [
    "frac.show()"
   ]
  },
  {
   "cell_type": "code",
   "execution_count": 43,
   "metadata": {},
   "outputs": [
    {
     "name": "stdout",
     "output_type": "stream",
     "text": [
      "3/5\n"
     ]
    }
   ],
   "source": [
    "print(frac)"
   ]
  },
  {
   "cell_type": "code",
   "execution_count": 44,
   "metadata": {},
   "outputs": [
    {
     "data": {
      "text/plain": [
       "'3/5'"
      ]
     },
     "execution_count": 44,
     "metadata": {},
     "output_type": "execute_result"
    }
   ],
   "source": [
    "str(frac)"
   ]
  },
  {
   "cell_type": "code",
   "execution_count": 45,
   "metadata": {},
   "outputs": [
    {
     "name": "stdout",
     "output_type": "stream",
     "text": [
      "1/1\n"
     ]
    }
   ],
   "source": [
    "## WIth __add__ defined\n",
    "frac2 = Fraction(3,10)\n",
    "res_frac = frac + frac2\n",
    "print(res_frac)"
   ]
  },
  {
   "cell_type": "code",
   "execution_count": 58,
   "metadata": {},
   "outputs": [
    {
     "name": "stdout",
     "output_type": "stream",
     "text": [
      "4346112768 4346112712\n"
     ]
    }
   ],
   "source": [
    "frac3 = Fraction(1,2)\n",
    "frac4 = Fraction(1,2)\n",
    "print(id(frac3),id(frac4))"
   ]
  },
  {
   "cell_type": "code",
   "execution_count": 59,
   "metadata": {},
   "outputs": [
    {
     "data": {
      "text/plain": [
       "True"
      ]
     },
     "execution_count": 59,
     "metadata": {},
     "output_type": "execute_result"
    }
   ],
   "source": [
    "frac3 == frac4 #comparing memory address"
   ]
  },
  {
   "cell_type": "code",
   "execution_count": 60,
   "metadata": {},
   "outputs": [],
   "source": [
    "r = range(10)"
   ]
  },
  {
   "cell_type": "code",
   "execution_count": 63,
   "metadata": {},
   "outputs": [
    {
     "data": {
      "text/plain": [
       "range(0, 10)"
      ]
     },
     "execution_count": 63,
     "metadata": {},
     "output_type": "execute_result"
    }
   ],
   "source": [
    "r"
   ]
  },
  {
   "cell_type": "code",
   "execution_count": 81,
   "metadata": {},
   "outputs": [
    {
     "data": {
      "text/plain": [
       "Fraction(3, 5)"
      ]
     },
     "execution_count": 81,
     "metadata": {},
     "output_type": "execute_result"
    }
   ],
   "source": [
    "frac"
   ]
  },
  {
   "cell_type": "code",
   "execution_count": null,
   "metadata": {},
   "outputs": [],
   "source": []
  },
  {
   "cell_type": "code",
   "execution_count": null,
   "metadata": {},
   "outputs": [],
   "source": []
  }
 ],
 "metadata": {
  "kernelspec": {
   "display_name": "Python 3",
   "language": "python",
   "name": "python3"
  },
  "language_info": {
   "codemirror_mode": {
    "name": "ipython",
    "version": 3
   },
   "file_extension": ".py",
   "mimetype": "text/x-python",
   "name": "python",
   "nbconvert_exporter": "python",
   "pygments_lexer": "ipython3",
   "version": "3.6.4"
  }
 },
 "nbformat": 4,
 "nbformat_minor": 2
}
